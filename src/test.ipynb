{
 "cells": [
  {
   "cell_type": "code",
   "execution_count": 7,
   "metadata": {},
   "outputs": [
    {
     "name": "stdout",
     "output_type": "stream",
     "text": [
      "[[1.    1.    1.    1.    1.    1.    1.    1.    1.    1.    1.    1.\n",
      "  1.    1.    1.    1.    1.    1.    1.    1.   ]\n",
      " [1.    1.    1.    1.    1.    1.    1.    1.    1.    1.    1.    1.\n",
      "  1.    1.    1.    1.    1.    1.    1.    1.   ]\n",
      " [0.001 0.001 0.001 0.001 0.001 0.001 0.001 0.001 0.001 0.001 0.001 0.001\n",
      "  0.001 0.001 0.001 0.001 0.001 0.001 0.001 0.001]\n",
      " [0.1   0.1   0.1   0.1   0.1   0.1   0.1   0.1   0.1   0.1   0.1   0.1\n",
      "  0.1   0.1   0.1   0.1   0.1   0.1   0.1   0.1  ]]\n"
     ]
    }
   ],
   "source": [
    "%matplotlib inline\n",
    "\n",
    "from RungeKutta4 import rungekutta4 as rk4\n",
    "import numpy as np\n",
    "\n",
    "def odeFunc(x, y):\n",
    "   y = x\n",
    "   return\n",
    "\n",
    "rk4.k1 = np.zeros((4,20), dtype=np.float64)\n",
    "rk4.k2 = np.zeros((4,20), dtype=np.float64)\n",
    "rk4.k3 = np.zeros((4,20), dtype=np.float64)\n",
    "rk4.k4 = np.zeros((4,20), dtype=np.float64)\n",
    "rk4.k5 = np.zeros((4,20), dtype=np.float64)\n",
    "rk4.k6 = np.zeros((4,20), dtype=np.float64)\n",
    "rk4.nxt4th = np.zeros((4,20), dtype=np.float64)\n",
    "rk4.nxt5th = np.zeros((4,20), dtype=np.float64)\n",
    "rk4.interim = np.zeros((4,20), dtype=np.float64)\n",
    "rk4.rerr = np.zeros((4,20), dtype=np.float64)\n",
    "invars = np.zeros((4,20), dtype=np.float64, order='F')\n",
    "outvars = np.zeros((4,20), dtype=np.float64, order='F')\n",
    "invars[0,:] = 1\n",
    "invars[1,:] = 1\n",
    "invars[2,:] = 1e-3\n",
    "invars[3,:] = 1e-1\n",
    "curstep = np.array([1.0], dtype=np.float64, order='F')\n",
    "nextstep = np.array([1.0], dtype=np.float64, order='F')\n",
    "mode = 102\n",
    "outerr = np.array([0], dtype=np.int32, order='F')\n",
    "tol = np.array([1e-2, 1e-2, 1e-5, 1e-4], dtype=np.float64, order='F')\n",
    "\n",
    "rk4.rk4fehlberg(odeFunc, invars, outvars, mode, tol, curstep, nextstep, outerr)\n",
    "\n",
    "print(outvars)"
   ]
  },
  {
   "cell_type": "code",
   "execution_count": 5,
   "metadata": {},
   "outputs": [
    {
     "name": "stdout",
     "output_type": "stream",
     "text": [
      "[[1.    1.    1.    1.    1.    1.    1.    1.    1.    1.    1.    1.\n",
      "  1.    1.    1.    1.    1.    1.    1.    1.   ]\n",
      " [1.    1.    1.    1.    1.    1.    1.    1.    1.    1.    1.    1.\n",
      "  1.    1.    1.    1.    1.    1.    1.    1.   ]\n",
      " [0.001 0.001 0.001 0.001 0.001 0.001 0.001 0.001 0.001 0.001 0.001 0.001\n",
      "  0.001 0.001 0.001 0.001 0.001 0.001 0.001 0.001]\n",
      " [0.1   0.1   0.1   0.1   0.1   0.1   0.1   0.1   0.1   0.1   0.1   0.1\n",
      "  0.1   0.1   0.1   0.1   0.1   0.1   0.1   0.1  ]]\n"
     ]
    }
   ],
   "source": [
    "rk4.rk4fehlberg(odeFunc, invars, outvars, mode, tol, curstep, nextstep, outerr)\n",
    "print(outvars)"
   ]
  },
  {
   "cell_type": "code",
   "execution_count": 6,
   "metadata": {},
   "outputs": [
    {
     "name": "stdout",
     "output_type": "stream",
     "text": [
      "[[1.    1.    1.    1.    1.    1.    1.    1.    1.    1.    1.    1.\n",
      "  1.    1.    1.    1.    1.    1.    1.    1.   ]\n",
      " [1.    1.    1.    1.    1.    1.    1.    1.    1.    1.    1.    1.\n",
      "  1.    1.    1.    1.    1.    1.    1.    1.   ]\n",
      " [0.001 0.001 0.001 0.001 0.001 0.001 0.001 0.001 0.001 0.001 0.001 0.001\n",
      "  0.001 0.001 0.001 0.001 0.001 0.001 0.001 0.001]\n",
      " [0.1   0.1   0.1   0.1   0.1   0.1   0.1   0.1   0.1   0.1   0.1   0.1\n",
      "  0.1   0.1   0.1   0.1   0.1   0.1   0.1   0.1  ]]\n"
     ]
    }
   ],
   "source": [
    "invars = outvars\n",
    "rk4.rk4fehlberg(odeFunc, invars, outvars, mode, tol, curstep, nextstep, outerr)\n",
    "print(outvars)"
   ]
  },
  {
   "cell_type": "code",
   "execution_count": null,
   "metadata": {},
   "outputs": [],
   "source": []
  }
 ],
 "metadata": {
  "kernelspec": {
   "display_name": "Python 3",
   "language": "python",
   "name": "python3"
  },
  "language_info": {
   "codemirror_mode": {
    "name": "ipython",
    "version": 3
   },
   "file_extension": ".py",
   "mimetype": "text/x-python",
   "name": "python",
   "nbconvert_exporter": "python",
   "pygments_lexer": "ipython3",
   "version": "3.7.0"
  }
 },
 "nbformat": 4,
 "nbformat_minor": 2
}
